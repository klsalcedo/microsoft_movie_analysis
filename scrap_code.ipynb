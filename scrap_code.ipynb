{
 "cells": [
  {
   "cell_type": "code",
   "execution_count": null,
   "id": "a28439be",
   "metadata": {},
   "outputs": [],
   "source": [
    "import pandas as pd\n",
    "import matplotlib.pyplot as plt\n",
    "%matplotlib inline\n",
    "import numpy as np"
   ]
  },
  {
   "cell_type": "code",
   "execution_count": null,
   "id": "12766e0d",
   "metadata": {},
   "outputs": [],
   "source": [
    "rtRev_df = pd.read_csv('zippedData/rt.reviews.tsv', delimiter='\\t', encoding='latin1')\n",
    "rtRev_df"
   ]
  },
  {
   "cell_type": "code",
   "execution_count": null,
   "id": "4dba6ed1",
   "metadata": {},
   "outputs": [],
   "source": [
    "#created new df without all the NaN values in rating column, dropped 13517 rows\n",
    "cleaned_df = (rtRev_df[rtRev_df['rating'].notna()]).copy()\n",
    "cleaned_df.head()"
   ]
  },
  {
   "cell_type": "code",
   "execution_count": null,
   "id": "ce8de5bd",
   "metadata": {},
   "outputs": [],
   "source": [
    "#created a new df where all the rows have a letter as the value in the rating column\n",
    "df_letters = rtRev_df[rtRev_df['rating'].isin(['A+','A','A-','B+','B','B-','C+','C','C-','D+','D','D-','F+','F','F-','N','T','R'])].copy()\n",
    "df_letters.head()"
   ]
  },
  {
   "cell_type": "code",
   "execution_count": null,
   "id": "00d23377",
   "metadata": {},
   "outputs": [],
   "source": [
    "#used the letters_df to rid the letters from the no-Nan cleaned_df\n",
    "cleaned_df.drop(cleaned_df[cleaned_df['rating'].isin(df_letters['rating'])].index, inplace=True)\n",
    "cleaned_df.shape"
   ]
  },
  {
   "cell_type": "code",
   "execution_count": null,
   "id": "6059409b",
   "metadata": {},
   "outputs": [],
   "source": [
    "#get the median for new_rating grouped by the movie id, also shows there are 1077 unique values in id column\n",
    "group = cleaned_df.groupby(['id']).median()\n",
    "group.drop(['top_critic'], axis=1, inplace=True)\n",
    "group"
   ]
  },
  {
   "cell_type": "code",
   "execution_count": null,
   "id": "5ade7aac",
   "metadata": {},
   "outputs": [],
   "source": [
    "#merge df with letters rating with the df with the median for new_rating, dropped 47 rows as those 47 had an\n",
    "#id whose value in the rating (original) was only ever a letter i.e. no way to calculate a median\n",
    "combined = df_letters.merge(group, how='inner', on='id')\n",
    "combined"
   ]
  },
  {
   "cell_type": "code",
   "execution_count": null,
   "id": "5b7424b5",
   "metadata": {},
   "outputs": [],
   "source": [
    "#use concat to join cleaned_df (which has the cleaned_rating column) with the combined df (which has \n",
    "#median value for letter ratings as cleaned_rating) since combined has rows earlier dropped from cleaned_df\n",
    "all_data = pd.concat([cleaned_df, combined])\n",
    "all_data.head()"
   ]
  },
  {
   "cell_type": "code",
   "execution_count": null,
   "id": "edcff39c",
   "metadata": {},
   "outputs": [],
   "source": [
    "def get_year(date):\n",
    "    date = date.replace('\\n','')\n",
    "    date = date.strip()\n",
    "    year = int(date[-4:])\n",
    "    return year"
   ]
  },
  {
   "cell_type": "code",
   "execution_count": null,
   "id": "1dc2cd88",
   "metadata": {},
   "outputs": [],
   "source": [
    "genres_w_date['Year'] = genres_w_date[genres_w_date['theater_date']].apply(get_year)\n",
    "genres_w_date.columns"
   ]
  },
  {
   "cell_type": "code",
   "execution_count": null,
   "id": "3e939e89",
   "metadata": {},
   "outputs": [],
   "source": [
    "cleaned_df['rating'].unique()"
   ]
  },
  {
   "cell_type": "code",
   "execution_count": null,
   "id": "b7401e68",
   "metadata": {},
   "outputs": [],
   "source": []
  }
 ],
 "metadata": {
  "kernelspec": {
   "display_name": "Python 3",
   "language": "python",
   "name": "python3"
  },
  "language_info": {
   "codemirror_mode": {
    "name": "ipython",
    "version": 3
   },
   "file_extension": ".py",
   "mimetype": "text/x-python",
   "name": "python",
   "nbconvert_exporter": "python",
   "pygments_lexer": "ipython3",
   "version": "3.8.8"
  }
 },
 "nbformat": 4,
 "nbformat_minor": 5
}
